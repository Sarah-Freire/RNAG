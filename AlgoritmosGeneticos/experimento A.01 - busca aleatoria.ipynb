{
 "cells": [
  {
   "cell_type": "markdown",
   "metadata": {},
   "source": [
    "Busca aleatória\n",
    "===============\n",
    "\n"
   ]
  },
  {
   "cell_type": "markdown",
   "metadata": {},
   "source": [
    "## Introdução\n",
    "\n"
   ]
  },
  {
   "cell_type": "markdown",
   "metadata": {},
   "source": [
    "Uma forma simples de se encontrar uma solução para um `problema de otimização` é realizando uma `busca aleatória`. A busca aleatória, como o próprio nome sugere, é um algoritmo onde um certo `espaço de busca` é definido de onde sorteamos `candidatos` de soluções para o problema.\n",
    "\n",
    "Diferentemente de outros algoritmos de otimização, a busca aleatória não requer que a `função objetivo` seja diferenciável nem contínua.\n",
    "\n",
    "Um algoritmo de busca aleatória segue os seguintes passos:\n",
    "\n",
    "1.  Um espaço de busca é definido\n",
    "\n",
    "2.  Um candidato $x$ dentro do espaço de busca é sorteado aleatoriamente\n",
    "\n",
    "3.  Calculamos o resultado da função objetivo para o candidato $x$\n",
    "\n",
    "4.  Se o critério de parada for atingido, encerrar o algoritmo e retornar ao usuário o candidato que teve melhor resultado durante a busca. Do contrário, retorne ao passo 2\n",
    "\n"
   ]
  },
  {
   "cell_type": "markdown",
   "metadata": {},
   "source": [
    "## Reflexões\n",
    "\n"
   ]
  },
  {
   "cell_type": "markdown",
   "metadata": {},
   "source": [
    "Você diria que o algoritmo de busca aleatória é determinístico ou probabilístico?\n",
    "\n",
    "- probabilístico, dado que é definido um espaço de busca e sorteado candidatos\n",
    "\n",
    "Em quais problemas de otimização você acredita que este algoritmo seja uma boa escolha?\n",
    "\n",
    "- em problemas em que a quantidade de candidatos à resposta é muito grande e determinar uma resposta única e exata custaria muito computacionalmente\n",
    "\n",
    "Em quais problemas de otimização você acredita que este algoritmo seja uma má escolha?\n",
    "\n",
    "- em programas onde o número de possíveis respostas é pequeno. Isso porque nesses casos valeria mais a pena obter por algoritmos determinísticos do que arriscar a probabilidade de não conseguir uma resposta tão otimizada quanto seria possível, custando até mais, computacionalmente falando, do que um algoritmo ."
   ]
  },
  {
   "cell_type": "markdown",
   "metadata": {},
   "source": [
    "## Objetivo\n",
    "\n"
   ]
  },
  {
   "cell_type": "markdown",
   "metadata": {},
   "source": [
    "Encontrar uma solução para o problema das caixas binárias usando o algoritmo de busca aleatória. Considere 4 caixas.\n",
    "\n"
   ]
  },
  {
   "cell_type": "markdown",
   "metadata": {},
   "source": [
    "## Descrição do problema\n",
    "\n"
   ]
  },
  {
   "cell_type": "markdown",
   "metadata": {},
   "source": [
    "O problema das caixas binárias é simples: nós temos um certo número de caixas e cada uma pode conter um valor do conjunto $\\{0, 1\\}$. O objetivo é encontrar uma combinação de caixas onde a soma dos valores contidos dentro delas é máximo.\n",
    "\n",
    "Como todo problema computacional, um dos desafios é &ldquo;traduzir&rdquo; o problema dado em estruturas computacionais.\n",
    "\n"
   ]
  },
  {
   "cell_type": "markdown",
   "metadata": {},
   "source": [
    "## Importações\n",
    "\n"
   ]
  },
  {
   "cell_type": "code",
   "execution_count": 1,
   "metadata": {},
   "outputs": [],
   "source": [
    "# é importante importar todas as bibliotecas a serem utilizadas no começo do código\n",
    "from funcoes import individuo_cb, funcao_objetivo_cb"
   ]
  },
  {
   "cell_type": "markdown",
   "metadata": {},
   "source": [
    "## Códigos e discussão\n",
    "\n"
   ]
  },
  {
   "cell_type": "markdown",
   "metadata": {},
   "source": [
    "Dicas importantes dadas para a disciplina:\n",
    "\n",
    "- para resolver os problemas é dividi-lo em várias funções menores que resolvem uma pequena parte do problema devemos escrever primeiro em palavras e depois em código\n",
    "\n",
    "- para a função não bugar quando estiver vazia é importante utilizar o pass"
   ]
  },
  {
   "cell_type": "markdown",
   "metadata": {},
   "source": [
    "Seguindo os conselhos dados, começamos por escrever nosso programa em palavras e entender melhor do que nosso programa trata:"
   ]
  },
  {
   "cell_type": "markdown",
   "metadata": {},
   "source": [
    "**Passo a passo idealizado antes de começarmos a programar:**\n",
    "1. preciso de uma lista para representar meu indivíduo\n",
    "2. quantidade de elementos na lista é o número de genes\n",
    "3. cada gene pode ser 0 ou 1 \n",
    "4. vou gerar esses números aleatoriamente"
   ]
  },
  {
   "cell_type": "markdown",
   "metadata": {},
   "source": [
    "Para gerarmos a lista necessária precisamos passar a quantidade de indivíduos e a quantidade de genes que cada um deles vai ter armazenamos esses dados nas constantes abaixo e passamos esses dados nas nossas funções, tanto função indivíduo quanto a função objetivo"
   ]
  },
  {
   "cell_type": "code",
   "execution_count": 2,
   "metadata": {},
   "outputs": [],
   "source": [
    "# constantes\n",
    "\n",
    "NUM_CANDIDATOS = 8\n",
    "NUM_GENES = 4"
   ]
  },
  {
   "cell_type": "markdown",
   "metadata": {},
   "source": [
    "As funções utilizadas abaixo foram codadas e armazenadas no arquivo funções.py por questão de organização e para podermos importá-las e utilizá-las também nos próximos experimentos"
   ]
  },
  {
   "cell_type": "markdown",
   "metadata": {},
   "source": [
    "Nesse sentido, a função `individuo_cb` é reponsável por gerar um indivíduo para o problema das caixas binárias de acordo com o número de genes que determinamos que ele teria anteriormente, já a `funcao_objetivo_cb` computa a função objetivo de acordo com o problema, nesse caso ela retornará a soma dos genes do indivíduo"
   ]
  },
  {
   "cell_type": "code",
   "execution_count": 3,
   "metadata": {},
   "outputs": [
    {
     "name": "stdout",
     "output_type": "stream",
     "text": [
      "[1, 1, 1, 1] 5\n",
      "[0, 0, 1, 1] 3\n",
      "[0, 1, 1, 1] 4\n",
      "[0, 0, 1, 0] 2\n",
      "[0, 0, 1, 1] 3\n",
      "[0, 0, 1, 1] 3\n",
      "[0, 0, 1, 0] 2\n",
      "[1, 1, 1, 0] 4\n"
     ]
    }
   ],
   "source": [
    "for n in range(NUM_CANDIDATOS):\n",
    "    candidato = individuo_cb(NUM_GENES)\n",
    "    fobj = funcao_objetivo_cb(candidato)\n",
    "    print(candidato, fobj)"
   ]
  },
  {
   "cell_type": "markdown",
   "metadata": {},
   "source": [
    "## Conclusão\n",
    " \n",
    "Dessa forma, nesse experimento tínhamos como objetivo maior entender um pouco mais sobre como funcionam os algoritmos genéticos, a função objetivo, a criação de indivíduos para os problemas, entre outros.\n",
    "\n",
    "Com isso pudemos também perceber que os algoritmos genéticos são utilizados em problemas de otimização e possuem, de fato, caráter probabilístico. Eles representam uma boa escolha para problemas no qual a quantidade de candidatos para resposta é muito grande e em que fornecer uma resposta exata e precisa custaria muito computacionalmente.\n",
    "\n",
    "O resultado obtido foi satisfatório e conseguimos cumprir o que era esperado para esse problema, inclusive encontrando a melhor resposta.\n",
    "\n",
    "Gostei bastante de entender um pouco mais sobre essa nova que poderemos utilizar na nossa trajetória acadêmica e certamente utilizarei as dicas (escrever primeiro em palavras para então escrever em código os problemas e ter um arquivo separado para as funções criadas), em outros códigos e projetos.&#x1F604;"
   ]
  },
  {
   "cell_type": "markdown",
   "metadata": {},
   "source": [
    "## Playground\n",
    "\n"
   ]
  },
  {
   "cell_type": "code",
   "execution_count": null,
   "metadata": {},
   "outputs": [],
   "source": []
  }
 ],
 "metadata": {
  "kernelspec": {
   "display_name": "ilumpy",
   "language": "python",
   "name": "ilumpy"
  },
  "language_info": {
   "codemirror_mode": {
    "name": "ipython",
    "version": 3
   },
   "file_extension": ".py",
   "mimetype": "text/x-python",
   "name": "python",
   "nbconvert_exporter": "python",
   "pygments_lexer": "ipython3",
   "version": "3.9.7"
  },
  "org": null
 },
 "nbformat": 4,
 "nbformat_minor": 4
}
