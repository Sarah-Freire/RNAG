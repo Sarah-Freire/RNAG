{
 "cells": [
  {
   "cell_type": "markdown",
   "metadata": {},
   "source": [
    "Busca aleatória\n",
    "===============\n",
    "\n"
   ]
  },
  {
   "cell_type": "markdown",
   "metadata": {},
   "source": [
    "## Introdução\n",
    "\n"
   ]
  },
  {
   "cell_type": "markdown",
   "metadata": {},
   "source": [
    "Uma forma simples de se encontrar uma solução para um `problema de otimização` é realizando uma `busca aleatória`. A busca aleatória, como o próprio nome sugere, é um algoritmo onde um certo `espaço de busca` é definido de onde sorteamos `candidatos` de soluções para o problema.\n",
    "\n",
    "Diferentemente de outros algoritmos de otimização, a busca aleatória não requer que a `função objetivo` seja diferenciável nem contínua.\n",
    "\n",
    "Um algoritmo de busca aleatória segue os seguintes passos:\n",
    "\n",
    "1.  Um espaço de busca é definido\n",
    "\n",
    "2.  Um candidato $x$ dentro do espaço de busca é sorteado aleatoriamente\n",
    "\n",
    "3.  Calculamos o resultado da função objetivo para o candidato $x$\n",
    "\n",
    "4.  Se o critério de parada for atingido, encerrar o algoritmo e retornar ao usuário o candidato que teve melhor resultado durante a busca. Do contrário, retorne ao passo 2\n",
    "\n"
   ]
  },
  {
   "cell_type": "markdown",
   "metadata": {},
   "source": [
    "## Reflexões\n",
    "\n"
   ]
  },
  {
   "cell_type": "markdown",
   "metadata": {},
   "source": [
    "Você diria que o algoritmo de busca aleatória é determinístico ou probabilístico?\n",
    "\n",
    "O nome indica que seja realmente probabilístico, principalmente dado que no algoritmo acima é definido um espaço de busca, o que indica que não será varrido todo o espaço possível, dando chance a uma probabilidade de se achar a melhor resposta ou não.\n",
    "\n",
    "Em quais problemas de otimização você acredita que este algoritmo seja uma boa escolha?\n",
    "\n",
    "Acredito que esse algoritmo seja uma boa escolha em problemas em que a quantidade de possíveis respostas, seja muito grande, isso porque custaria muito, computacionalmente, fornecer uma resposta exata e ótima, mas em que é possível obter uma boa resposta(aproximada à ótima) computacionalmente.\n",
    "\n",
    "Em quais problemas de otimização você acredita que este algoritmo seja uma má escolha?\n",
    "\n",
    "Em programas onde o número de possíveis respostas é pequeno. Isso porque sendo o número de possíveis respostas pequeno, vale mais a pena obter por algoritmos determinísticos do que arriscar a probabilidade de não conseguir uma resposta tão otimizada probabilisticamente.\n"
   ]
  },
  {
   "cell_type": "markdown",
   "metadata": {},
   "source": [
    "## Objetivo\n",
    "\n"
   ]
  },
  {
   "cell_type": "markdown",
   "metadata": {},
   "source": [
    "Encontrar uma solução para o problema das caixas binárias usando o algoritmo de busca aleatória. Considere 4 caixas.\n",
    "\n"
   ]
  },
  {
   "cell_type": "markdown",
   "metadata": {},
   "source": [
    "## Descrição do problema\n",
    "\n"
   ]
  },
  {
   "cell_type": "markdown",
   "metadata": {},
   "source": [
    "O problema das caixas binárias é simples: nós temos um certo número de caixas e cada uma pode conter um valor do conjunto $\\{0, 1\\}$. O objetivo é encontrar uma combinação de caixas onde a soma dos valores contidos dentro delas é máximo.\n",
    "\n",
    "Como todo problema computacional, um dos desafios é &ldquo;traduzir&rdquo; o problema dado em estruturas computacionais.\n",
    "\n"
   ]
  },
  {
   "cell_type": "markdown",
   "metadata": {},
   "source": [
    "## Importações\n",
    "\n"
   ]
  },
  {
   "cell_type": "code",
   "execution_count": 1,
   "metadata": {},
   "outputs": [],
   "source": [
    "# é importante importar todas as bibliotecas a serem utilizadas no começo do código\n",
    "import random"
   ]
  },
  {
   "cell_type": "markdown",
   "metadata": {},
   "source": [
    "## Códigos e discussão\n",
    "\n"
   ]
  },
  {
   "cell_type": "code",
   "execution_count": 2,
   "metadata": {},
   "outputs": [],
   "source": [
    "# uma dica para resolver os problemas é dividi-lo em várias funções menores que resolvem uma pequena parte do problema\n",
    "# devemos escrever primeiro em palavras e depois em código\n",
    "# para a função não bugar quando estiver vazia é importante utilizar o pass\n",
    "\n",
    "# preciso de uma lista para representar meu indivíduo\n",
    "# quantidade de elementos na lista é o númro de genes\n",
    "# cada gene pode ser 0 ou 1 \n",
    "# vou gerar esses números aleatoriamente\n",
    "\n",
    "def gene_caixa_binaria():\n",
    "    ''' Gera um gene válido para o problema das caixas binárias.\n",
    "    \n",
    "        Return:\n",
    "            Um valor zero ou um.\n",
    "    '''\n",
    "    lista = [0,1]\n",
    "    gene = random.choice(lista)\n",
    "    return gene\n",
    "    \n",
    "def individuo_caixa_binaria(n):\n",
    "    ''' Gera um indivíduo para o problema das caixas binárias.\n",
    "        \n",
    "        Args:\n",
    "            n: número de genes do indivíduo.\n",
    "        \n",
    "        Return:\n",
    "            Uma lista com n genes. Cada gene é um valor zero ou um.\n",
    "    '''\n",
    "    individuo = []\n",
    "    for i in range(n):\n",
    "        gene = gene_caixa_binaria()\n",
    "        individuo.append(gene)\n",
    "    return individuo\n",
    "\n",
    "def funcao_objetivo_caixa_binaria(individuo):\n",
    "    ''' Computa a função objetivo no problema das caixas binárias.\n",
    "    \n",
    "        Args:\n",
    "            individuo: lista contendo os genes das caixas binárias\n",
    "    \n",
    "        Return:\n",
    "        Um valor representando a soma dos genes do individuo\n",
    "    '''\n",
    "    return sum(individuo)"
   ]
  },
  {
   "cell_type": "code",
   "execution_count": 3,
   "metadata": {},
   "outputs": [],
   "source": [
    "# constantes\n",
    "\n",
    "NUM_CANDIDATOS = 8\n",
    "NUM_GENES = 4"
   ]
  },
  {
   "cell_type": "code",
   "execution_count": 4,
   "metadata": {},
   "outputs": [
    {
     "name": "stdout",
     "output_type": "stream",
     "text": [
      "[1, 0, 0, 1] 2\n",
      "[0, 0, 0, 0] 0\n",
      "[0, 1, 1, 0] 2\n",
      "[1, 0, 1, 0] 2\n",
      "[1, 1, 0, 1] 3\n",
      "[1, 0, 1, 0] 2\n",
      "[0, 1, 1, 0] 2\n",
      "[1, 0, 1, 0] 2\n"
     ]
    }
   ],
   "source": [
    "dicionario = {}\n",
    "\n",
    "for n in range(NUM_CANDIDATOS):\n",
    "    candidato = individuo_caixa_binaria(NUM_GENES)\n",
    "    fobj = funcao_objetivo_caixa_binaria(candidato)\n",
    "    print(candidato, fobj)"
   ]
  },
  {
   "cell_type": "markdown",
   "metadata": {},
   "source": [
    "## Conclusão\n",
    "Conseguimos com sucesso resolver o problema das caixas binárias com 4 caixas durante. Observamos através de várias rodadas que esse é um algoritmo probabilístico, como havia imaginado no início, para o programa foi necessário importar a biblioteca inclusa na linguagem pyhton chamada random."
   ]
  },
  {
   "cell_type": "code",
   "execution_count": null,
   "metadata": {},
   "outputs": [],
   "source": []
  },
  {
   "cell_type": "markdown",
   "metadata": {},
   "source": [
    "## Playground\n",
    "\n"
   ]
  },
  {
   "cell_type": "code",
   "execution_count": null,
   "metadata": {},
   "outputs": [],
   "source": []
  }
 ],
 "metadata": {
  "kernelspec": {
   "display_name": "ilumpy",
   "language": "python",
   "name": "ilumpy"
  },
  "language_info": {
   "codemirror_mode": {
    "name": "ipython",
    "version": 3
   },
   "file_extension": ".py",
   "mimetype": "text/x-python",
   "name": "python",
   "nbconvert_exporter": "python",
   "pygments_lexer": "ipython3",
   "version": "3.9.7"
  },
  "org": null
 },
 "nbformat": 4,
 "nbformat_minor": 4
}
