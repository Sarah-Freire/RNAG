{
 "cells": [
  {
   "cell_type": "markdown",
   "metadata": {},
   "source": [
    "Busca em grade\n",
    "==============\n",
    "\n"
   ]
  },
  {
   "cell_type": "markdown",
   "metadata": {},
   "source": [
    "## Introdução\n",
    "\n"
   ]
  },
  {
   "cell_type": "markdown",
   "metadata": {},
   "source": [
    "Uma forma de se encontrar uma solução para um problema de otimização é realizando uma `busca em grade`. Uma busca em grade nada mais é do que testar exaustivamente todas as combinações possíveis entre um ou mais conjunto de parâmetros.\n",
    "\n",
    "Vamos supor que você queira testar dois parâmetros em um problema de otimização, $p$ e $q$. Os valores possíveis para $p$ e $q$ estão exibidos abaixo:\n",
    "\n",
    "$p = \\{0, 1, 2\\}$\n",
    "\n",
    "$q = \\{a, b, c\\}$\n",
    "\n",
    "Em uma busca em grade, nós iremos testar todas as combinações entre $p$ e $q$, sendo elas: $(0, a)$, $(0, b)$, $(0,c)$, $(1, a)$, $(1, b)$, $(1,c)$, $(2, a)$, $(2, b)$ e $(2,c)$.\n",
    "\n",
    "Um algoritmo de busca em grade segue os seguintes passos:\n",
    "\n",
    "1.  Definir quais são os parâmetros e quais são os valores possíveis para cada parâmetro\n",
    "\n",
    "2.  Computar e armazenar o resultado da função objetivo para todas as combinações possíveis dos parâmetros definidos no passo 1\n",
    "\n",
    "3.  Retornar ao usuário a combinação de parâmetros que teve o melhor resultado durante a busca.\n",
    "\n"
   ]
  },
  {
   "cell_type": "markdown",
   "metadata": {},
   "source": [
    "## Reflexões\n",
    "\n"
   ]
  },
  {
   "cell_type": "markdown",
   "metadata": {},
   "source": [
    "Você diria que o algoritmo de busca em grade é determinístico ou probabilístico?\n",
    "\n",
    "- Determinístico, pois ao que entendi ele busca por todas as soluções possíveis e determina a melhor de todas elas.\n",
    "\n",
    "Será que a busca em grade é capaz de encontrar mínimos (ou máximos) da função objetivo?\n",
    "\n",
    "- Já que ele varre todas as opções, acredito que sim, pois de certo modo acabará passando por elas e pode armazená-las se quisermos.\n",
    "\n",
    "O que você espera da performance do algoritmo de busca em grade? Como a performance varia com o número de parâmetros e o número de itens nos conjuntos de valores de cada parâmetro?\n",
    "\n",
    "- Baseada também no fato de que nesse tipo de algoritmo todas as opções são testadas, acredito que seja melhor utilizá-lo apenas em um espaço amostral pequeno ou o custo computacional se tornará demasiadamente grande. Do mesmo modo, quanto mais parâmetros, ou itens nesses parâmetros, mais opções de teste aparecerão, então maior será o teste computacional e mais lento o algoritmo.\n",
    "\n"
   ]
  },
  {
   "cell_type": "markdown",
   "metadata": {},
   "source": [
    "## Objetivo\n",
    "\n"
   ]
  },
  {
   "cell_type": "markdown",
   "metadata": {},
   "source": [
    "Encontrar uma solução para o problema das caixas binárias usando o algoritmo de busca em grade. Considere 4 caixas.\n",
    "\n"
   ]
  },
  {
   "cell_type": "markdown",
   "metadata": {},
   "source": [
    "## Descrição do problema\n",
    "\n"
   ]
  },
  {
   "cell_type": "markdown",
   "metadata": {},
   "source": [
    "O problema das caixas binárias é simples: nós temos um certo número de caixas e cada uma pode conter um valor do conjunto $\\{0, 1\\}$. O objetivo é encontrar uma combinação de caixas onde a soma dos valores contidos dentro delas é máximo.\n",
    "\n"
   ]
  },
  {
   "cell_type": "markdown",
   "metadata": {},
   "source": [
    "## Importações\n",
    "\n"
   ]
  },
  {
   "cell_type": "code",
   "execution_count": 1,
   "metadata": {},
   "outputs": [],
   "source": [
    "from funcoes import funcao_objetivo_cb\n",
    "import itertools"
   ]
  },
  {
   "cell_type": "markdown",
   "metadata": {},
   "source": [
    "## Códigos e discussão\n",
    "\n"
   ]
  },
  {
   "cell_type": "markdown",
   "metadata": {},
   "source": [
    "Dica: um outro modo de importar e nomear as funções que queremos é:\n",
    "1. import funcoes \n",
    "2. fobj = funcoes.funcao_objetivo_caixa_binaria(individuo)"
   ]
  },
  {
   "cell_type": "markdown",
   "metadata": {},
   "source": [
    "Sabendo que nosso objetivo nesse experimento consiste em realizar uma busca em grade para resolver o mesmo problema que antes resolvemos por busca aleatória, faz-se importe seguir os passos dados"
   ]
  },
  {
   "cell_type": "markdown",
   "metadata": {},
   "source": [
    "Para isso primeiro é importante fornecer quais parâmetros serão utilizadas e quais os valores possíveis para cada um deles. Nesse experimento, diferentemente do experimento anterior, os parâmetros foram determinados de maneira um pouco mais manual."
   ]
  },
  {
   "cell_type": "markdown",
   "metadata": {},
   "source": [
    "Logo abaixo podemos ver dois exemplos de código levemente diferentes que rodam todas as combinações possíveis para um candidato com 4 genes:"
   ]
  },
  {
   "cell_type": "code",
   "execution_count": 2,
   "metadata": {},
   "outputs": [
    {
     "name": "stdout",
     "output_type": "stream",
     "text": [
      "[0, 0, 0, 0] 1\n",
      "[0, 0, 0, 1] 2\n",
      "[0, 0, 1, 0] 2\n",
      "[0, 0, 1, 1] 3\n",
      "[0, 1, 0, 0] 2\n",
      "[0, 1, 0, 1] 3\n",
      "[0, 1, 1, 0] 3\n",
      "[0, 1, 1, 1] 4\n",
      "[1, 0, 0, 0] 2\n",
      "[1, 0, 0, 1] 3\n",
      "[1, 0, 1, 0] 3\n",
      "[1, 0, 1, 1] 4\n",
      "[1, 1, 0, 0] 3\n",
      "[1, 1, 0, 1] 4\n",
      "[1, 1, 1, 0] 4\n",
      "[1, 1, 1, 1] 5\n"
     ]
    }
   ],
   "source": [
    "for gene1 in [0,1]:\n",
    "    for gene2 in [0,1]:\n",
    "        for gene3 in [0,1]:\n",
    "            for gene4 in [0,1]:\n",
    "                individuo = [gene1, gene2, gene3, gene4]\n",
    "                fobj = funcao_objetivo_cb(individuo)\n",
    "                print(individuo, fobj)"
   ]
  },
  {
   "cell_type": "code",
   "execution_count": 3,
   "metadata": {},
   "outputs": [
    {
     "name": "stdout",
     "output_type": "stream",
     "text": [
      "(0, 0, 0, 0) 1\n",
      "(0, 0, 0, 1) 2\n",
      "(0, 0, 1, 0) 2\n",
      "(0, 0, 1, 1) 3\n",
      "(0, 1, 0, 0) 2\n",
      "(0, 1, 0, 1) 3\n",
      "(0, 1, 1, 0) 3\n",
      "(0, 1, 1, 1) 4\n",
      "(1, 0, 0, 0) 2\n",
      "(1, 0, 0, 1) 3\n",
      "(1, 0, 1, 0) 3\n",
      "(1, 0, 1, 1) 4\n",
      "(1, 1, 0, 0) 3\n",
      "(1, 1, 0, 1) 4\n",
      "(1, 1, 1, 0) 4\n",
      "(1, 1, 1, 1) 5\n"
     ]
    }
   ],
   "source": [
    "for individuo in itertools.product([0,1], repeat=4):\n",
    "    fobj = funcao_objetivo_cb(individuo)\n",
    "    print(individuo, fobj)"
   ]
  },
  {
   "cell_type": "markdown",
   "metadata": {},
   "source": [
    "logo abaixo pode ser visto um código onde calculamos todas as combinações de genes possíveis para um indivíduo com 6 genes."
   ]
  },
  {
   "cell_type": "code",
   "execution_count": 4,
   "metadata": {},
   "outputs": [
    {
     "name": "stdout",
     "output_type": "stream",
     "text": [
      "(0, 0, 0, 0, 0, 0) 1\n",
      "(0, 0, 0, 0, 0, 1) 2\n",
      "(0, 0, 0, 0, 1, 0) 2\n",
      "(0, 0, 0, 0, 1, 1) 3\n",
      "(0, 0, 0, 1, 0, 0) 2\n",
      "(0, 0, 0, 1, 0, 1) 3\n",
      "(0, 0, 0, 1, 1, 0) 3\n",
      "(0, 0, 0, 1, 1, 1) 4\n",
      "(0, 0, 1, 0, 0, 0) 2\n",
      "(0, 0, 1, 0, 0, 1) 3\n",
      "(0, 0, 1, 0, 1, 0) 3\n",
      "(0, 0, 1, 0, 1, 1) 4\n",
      "(0, 0, 1, 1, 0, 0) 3\n",
      "(0, 0, 1, 1, 0, 1) 4\n",
      "(0, 0, 1, 1, 1, 0) 4\n",
      "(0, 0, 1, 1, 1, 1) 5\n",
      "(0, 1, 0, 0, 0, 0) 2\n",
      "(0, 1, 0, 0, 0, 1) 3\n",
      "(0, 1, 0, 0, 1, 0) 3\n",
      "(0, 1, 0, 0, 1, 1) 4\n",
      "(0, 1, 0, 1, 0, 0) 3\n",
      "(0, 1, 0, 1, 0, 1) 4\n",
      "(0, 1, 0, 1, 1, 0) 4\n",
      "(0, 1, 0, 1, 1, 1) 5\n",
      "(0, 1, 1, 0, 0, 0) 3\n",
      "(0, 1, 1, 0, 0, 1) 4\n",
      "(0, 1, 1, 0, 1, 0) 4\n",
      "(0, 1, 1, 0, 1, 1) 5\n",
      "(0, 1, 1, 1, 0, 0) 4\n",
      "(0, 1, 1, 1, 0, 1) 5\n",
      "(0, 1, 1, 1, 1, 0) 5\n",
      "(0, 1, 1, 1, 1, 1) 6\n",
      "(1, 0, 0, 0, 0, 0) 2\n",
      "(1, 0, 0, 0, 0, 1) 3\n",
      "(1, 0, 0, 0, 1, 0) 3\n",
      "(1, 0, 0, 0, 1, 1) 4\n",
      "(1, 0, 0, 1, 0, 0) 3\n",
      "(1, 0, 0, 1, 0, 1) 4\n",
      "(1, 0, 0, 1, 1, 0) 4\n",
      "(1, 0, 0, 1, 1, 1) 5\n",
      "(1, 0, 1, 0, 0, 0) 3\n",
      "(1, 0, 1, 0, 0, 1) 4\n",
      "(1, 0, 1, 0, 1, 0) 4\n",
      "(1, 0, 1, 0, 1, 1) 5\n",
      "(1, 0, 1, 1, 0, 0) 4\n",
      "(1, 0, 1, 1, 0, 1) 5\n",
      "(1, 0, 1, 1, 1, 0) 5\n",
      "(1, 0, 1, 1, 1, 1) 6\n",
      "(1, 1, 0, 0, 0, 0) 3\n",
      "(1, 1, 0, 0, 0, 1) 4\n",
      "(1, 1, 0, 0, 1, 0) 4\n",
      "(1, 1, 0, 0, 1, 1) 5\n",
      "(1, 1, 0, 1, 0, 0) 4\n",
      "(1, 1, 0, 1, 0, 1) 5\n",
      "(1, 1, 0, 1, 1, 0) 5\n",
      "(1, 1, 0, 1, 1, 1) 6\n",
      "(1, 1, 1, 0, 0, 0) 4\n",
      "(1, 1, 1, 0, 0, 1) 5\n",
      "(1, 1, 1, 0, 1, 0) 5\n",
      "(1, 1, 1, 0, 1, 1) 6\n",
      "(1, 1, 1, 1, 0, 0) 5\n",
      "(1, 1, 1, 1, 0, 1) 6\n",
      "(1, 1, 1, 1, 1, 0) 6\n",
      "(1, 1, 1, 1, 1, 1) 7\n"
     ]
    }
   ],
   "source": [
    "for individuo in itertools.product([0,1], repeat=6):\n",
    "    fobj = funcao_objetivo_cb(individuo)\n",
    "    print(individuo, fobj)"
   ]
  },
  {
   "cell_type": "markdown",
   "metadata": {},
   "source": [
    "## Conclusão\n",
    "\n",
    "Sabendo que o nosso objetivo inicial tratava de testar todas as possibilidades de combinações de genes possíveis e encontrar o valor para a função objetivo deles buscando encontrar o maior valor possível, podemos perceber que ele foi atingido com sucesso &#x1F604;, dado que o nosso código até exibe cada uma das possibilidades, mostrando também aquela cujo resultado da função objetivo é o maior.\n",
    "\n",
    "Durante a realização do experimento, foi ainda possível descobrir a respostas para os questionamentos feitos e respondidos na seção de reflexões.\n",
    "\n",
    "Dessa forma, ficou mais claro que a busca em grade é sim determinística; que é sim capaz de encontrar o máximo e o mínimo da função objetivo (dado que varre todas as possibilidades) e que quanto maior o número de possibilidades, maior será o custo computacional&#x1F4BB;."
   ]
  },
  {
   "cell_type": "markdown",
   "metadata": {},
   "source": [
    "## Playground\n",
    "\n"
   ]
  },
  {
   "cell_type": "code",
   "execution_count": null,
   "metadata": {},
   "outputs": [],
   "source": []
  },
  {
   "cell_type": "code",
   "execution_count": null,
   "metadata": {},
   "outputs": [],
   "source": []
  }
 ],
 "metadata": {
  "kernelspec": {
   "display_name": "ilumpy",
   "language": "python",
   "name": "ilumpy"
  },
  "language_info": {
   "codemirror_mode": {
    "name": "ipython",
    "version": 3
   },
   "file_extension": ".py",
   "mimetype": "text/x-python",
   "name": "python",
   "nbconvert_exporter": "python",
   "pygments_lexer": "ipython3",
   "version": "3.9.7"
  },
  "org": null
 },
 "nbformat": 4,
 "nbformat_minor": 4
}
