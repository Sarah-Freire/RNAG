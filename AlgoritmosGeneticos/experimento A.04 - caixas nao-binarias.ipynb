{
 "cells": [
  {
   "cell_type": "markdown",
   "metadata": {},
   "source": [
    "Problema das caixas não-binárias\n",
    "================================\n",
    "\n"
   ]
  },
  {
   "cell_type": "markdown",
   "metadata": {},
   "source": [
    "## Objetivo\n",
    "\n"
   ]
  },
  {
   "cell_type": "markdown",
   "metadata": {},
   "source": [
    "Encontrar uma solução para o problema das caixas não-binárias usando um algoritmo genético. Considere 4 caixas. Considere que cada caixa pode ter um valor inteiro dentro do conjunto [0, 100].\n",
    "\n"
   ]
  },
  {
   "cell_type": "markdown",
   "metadata": {},
   "source": [
    "## Descrição do problema\n",
    "\n"
   ]
  },
  {
   "cell_type": "markdown",
   "metadata": {},
   "source": [
    "O problema das caixas não-binárias é simples: nós temos um certo número de caixas e cada uma pode conter um número inteiro. O objetivo é encontrar uma combinação de caixas onde a soma dos valores contidos dentro delas é máximo.\n",
    "\n"
   ]
  },
  {
   "cell_type": "markdown",
   "metadata": {},
   "source": [
    "## Importações\n",
    "\n"
   ]
  },
  {
   "cell_type": "code",
   "execution_count": 1,
   "metadata": {},
   "outputs": [],
   "source": [
    "from funcoes import populacao_cnb\n",
    "from funcoes import funcao_objetivo_pop_cnb as funcao_objetivo_pop\n",
    "from funcoes import selecao_roleta_max as funcao_selecao\n",
    "from funcoes import cruzamento_ponto_simples as funcao_cruzamento\n",
    "from funcoes import mutacao_cnb\n",
    "import random"
   ]
  },
  {
   "cell_type": "markdown",
   "metadata": {},
   "source": [
    "## Códigos e discussão\n",
    "\n"
   ]
  },
  {
   "cell_type": "markdown",
   "metadata": {},
   "source": [
    "O problema das caixas não binárias continua tendo por objetivo encontrar a combinação onde a soma dos valores contidos nos genes é máxima, mudando apenas que cada um dos genes pode ser não apenas 0 e 1, mas qualquer inteiro entre 0 e 100. \n",
    "\n",
    "Dado, então, que experimento a ser realizado nesse notebook é bem semelhante ao experimento anterior, foram importados os mesmos conjuntos funções e determinados os mesmos tipos de constantes, tendo sido acrescentada apenas a constante `VALOR_MAX_CAIXA`, que indica o valor máximo que o gene pode assumir, nesse caso 100."
   ]
  },
  {
   "cell_type": "code",
   "execution_count": 2,
   "metadata": {},
   "outputs": [],
   "source": [
    "# constantes de busca\n",
    "\n",
    "# pode mudar para melhorar a eficácia do algoritmo construído\n",
    "TAMANHO_POP = 10\n",
    "NUM_GERACOES = 200\n",
    "CHANCE_CRUZAMENTO = 0.5\n",
    "CHANCE_MUTACAO = 0.07\n",
    "\n",
    "\n",
    "\n",
    "# constantes do problema\n",
    "\n",
    "# se forem alteradas, alteramos consequentemente o problema\n",
    "# que está sendo resolvido\n",
    "NUM_GENES = 4\n",
    "VALOR_MAX_CAIXA = 100"
   ]
  },
  {
   "cell_type": "code",
   "execution_count": 3,
   "metadata": {},
   "outputs": [],
   "source": [
    "# funções locais \n",
    "# no caso desse notebook elas foram utilizadas p modificar e dar\n",
    "# valor padrão para algumas funções definidas no funcoes.py\n",
    "# também podem ser chamadas de \"funções parciais\"\n",
    "\n",
    "def cria_populacao_inicial(tamanho, n_genes):\n",
    "    return populacao_cnb(tamanho, n_genes, VALOR_MAX_CAIXA)\n",
    "\n",
    "def funcao_mutacao(individuo):\n",
    "    return mutacao_cnb(individuo, VALOR_MAX_CAIXA)"
   ]
  },
  {
   "cell_type": "markdown",
   "metadata": {},
   "source": [
    "Foram criadas também funções locais, as funções locais são funções definidas no arquivo `funcoes.py` só que com valores definidos para alguns dos argumentos, nesse caso o valor máximo igual a 100"
   ]
  },
  {
   "cell_type": "code",
   "execution_count": 4,
   "metadata": {},
   "outputs": [
    {
     "name": "stdout",
     "output_type": "stream",
     "text": [
      "População inicial:\n",
      "[[27, 37, 40, 2], [15, 28, 42, 8], [43, 9, 74, 28], [71, 45, 65, 66], [92, 17, 20, 82], [79, 81, 89, 12], [36, 98, 84, 75], [92, 9, 7, 52], [2, 36, 70, 24], [57, 42, 95, 12]]\n",
      "\n",
      "População final:\n",
      "[[52, 92, 80, 85], [52, 92, 83, 85], [52, 92, 83, 85], [63, 92, 83, 85], [52, 92, 83, 85], [52, 92, 83, 85], [52, 92, 80, 85], [63, 92, 83, 85], [63, 0, 83, 85], [52, 92, 80, 85]]\n"
     ]
    }
   ],
   "source": [
    "populacao = cria_populacao_inicial(TAMANHO_POP, NUM_GENES)\n",
    "\n",
    "print(\"População inicial:\")\n",
    "print(populacao)\n",
    "\n",
    "for n in range(NUM_GERACOES):\n",
    "    \n",
    "    # para selecionar\n",
    "    fitness = funcao_objetivo_pop(populacao)\n",
    "    populacao = funcao_selecao(populacao, fitness)\n",
    "    \n",
    "    # para cruzamento\n",
    "    pais = populacao[0::2]\n",
    "    maes = populacao[1::2]\n",
    "    \n",
    "    contador = 0\n",
    "    \n",
    "    for pai, mae in zip(pais, maes):\n",
    "        if random.random() <= CHANCE_CRUZAMENTO:\n",
    "            filho1, filho2 = funcao_cruzamento(pai, mae)\n",
    "            populacao[contador] = filho1\n",
    "            populacao[contador + 1]  = filho2\n",
    "            \n",
    "        contador = contador + 2\n",
    "        \n",
    "    # para mutação\n",
    "    for n in range(len(populacao)):\n",
    "        if random.random() <= CHANCE_MUTACAO:\n",
    "            individuo = populacao[n]\n",
    "            populacao[n] = funcao_mutacao(individuo)\n",
    "            \n",
    "print()\n",
    "print(\"População final:\")\n",
    "print(populacao)"
   ]
  },
  {
   "cell_type": "markdown",
   "metadata": {},
   "source": [
    "## Conclusão\n",
    "\n"
   ]
  },
  {
   "cell_type": "markdown",
   "metadata": {},
   "source": [
    "Dessa forma, com o código implementado, podemos dizer que o objetivo de procurar a maior soma possível para os genes de um indivíduo foi bem-sucedido, pois a população gerada ao final já se encontra bem mais próxima dessa resposta ideal do que no início, como mostrado acima.\n",
    "\n",
    "Nesse experimento não houve grandes mudanças a respeito da lógica e da implementação quando comparado ao problema das caixas binárias. No entanto, ao aumentarmos a faixa de possibilidades para os valores que os genes podem assumir, aumentamos também o espaço de busca, fazendo com que seja mais difícil de o problema convergir.\n",
    "\n",
    "Para tentar contornar um pouco disso, os valores das constantes foram alterados com relação ao experimento A.03 como o `TAMANHO_POP`, já que um população inicial maior pode significar maior variabilidade genética desde o início; o `NUM_GERACOES`, já que um número maior de gerações permite um \"maior tempo\" de seleção o que pode indicar mais chances de aperfeiçoamento e `CHANCE_MUTACAO` aumentando um pouquinho  a mais a variabilidade genética.\n",
    "\n",
    "De fato, como imaginava, as funções criadas nos primeiros experimentos podem e estão sendo muito bem reaproveitadas mesmo para resolver diferentes problemas e estou curiosa para saber como se encaixarão nos próximos &#x1F604;."
   ]
  },
  {
   "cell_type": "markdown",
   "metadata": {},
   "source": [
    "## Playground\n",
    "\n"
   ]
  },
  {
   "cell_type": "code",
   "execution_count": null,
   "metadata": {},
   "outputs": [],
   "source": []
  }
 ],
 "metadata": {
  "kernelspec": {
   "display_name": "ilumpy",
   "language": "python",
   "name": "ilumpy"
  },
  "language_info": {
   "codemirror_mode": {
    "name": "ipython",
    "version": 3
   },
   "file_extension": ".py",
   "mimetype": "text/x-python",
   "name": "python",
   "nbconvert_exporter": "python",
   "pygments_lexer": "ipython3",
   "version": "3.9.7"
  },
  "org": null
 },
 "nbformat": 4,
 "nbformat_minor": 4
}
