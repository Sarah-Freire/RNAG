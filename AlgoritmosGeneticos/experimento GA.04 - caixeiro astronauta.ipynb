{
 "cells": [
  {
   "cell_type": "markdown",
   "metadata": {},
   "source": [
    "Experimento GA.04 - caixeiro astronauta\n",
    "========================================\n",
    "\n"
   ]
  },
  {
   "cell_type": "markdown",
   "metadata": {},
   "source": [
    "## Introdução\n",
    "\n"
   ]
  },
  {
   "cell_type": "markdown",
   "metadata": {},
   "source": [
    "Os experimentos do caixeiro viajante que até então vimos tratavam-se de deslocamentos descritos em 2 coordenadas. No entanto, **no mais novo episódio dessa série de experimentos**, nosso querido caixeiro fará uma viagem a algumas **estações espaciais** &#128104;&#8205;&#128640; &#128640; o que implica dizer que a sua localização será agora dada por um sistema de 3 coordenadas(&#128558;).\n",
    "\n",
    "Nesse notebook, trataremos, então, de um número $n\\geq 7$ de coordenadas $(x,y,z)$ de estações espaciais a serem visitadas."
   ]
  },
  {
   "cell_type": "markdown",
   "metadata": {},
   "source": [
    "## Objetivo\n",
    "\n"
   ]
  },
  {
   "cell_type": "markdown",
   "metadata": {},
   "source": [
    "Encontrar o caminho de menor distância no problema do caixeiro viajante astronauta.\n",
    "\n"
   ]
  },
  {
   "cell_type": "markdown",
   "metadata": {},
   "source": [
    "## Importações\n",
    "\n"
   ]
  },
  {
   "cell_type": "markdown",
   "metadata": {},
   "source": [
    "Todos os comandos de `import` devem estar dentro desta seção.\n",
    "\n"
   ]
  },
  {
   "cell_type": "code",
   "execution_count": 1,
   "metadata": {},
   "outputs": [],
   "source": [
    "import random\n",
    "from itertools import permutations\n",
    "\n",
    "from funcoes import cria_estacoes_espaciais as cria_cidades\n",
    "\n",
    "from funcoes import populacao_inicial_cv as cria_populacao_inicial\n",
    "from funcoes import funcao_objetivo_pop_cv_astronauta\n",
    "from funcoes import funcao_objetivo_cv_astronauta\n",
    "from funcoes import selecao_torneio_min as funcao_selecao # esse já temos!\n",
    "from funcoes import cruzamento_ordenado as funcao_cruzamento\n",
    "from funcoes import mutacao_de_troca as funcao_mutacao"
   ]
  },
  {
   "cell_type": "markdown",
   "metadata": {},
   "source": [
    "## Códigos e discussão\n",
    "\n"
   ]
  },
  {
   "cell_type": "markdown",
   "metadata": {},
   "source": [
    "Para iniciarmos a discussão é valido relembrar que o caixeiro só anda em linha reta e apenas entre duas estações. O caixeiro começa e termina seu trajeto na mesma estação e, fora a estação inicial, ele não visita nenhuma outra estação mais de uma vez."
   ]
  },
  {
   "cell_type": "markdown",
   "metadata": {},
   "source": [
    "Diferentemente do experimento GA.03, nesse experimento em que estamos voltamos a buscar pela menor distância a ser percorrido por nosso amiguinho, sendo, assim, um poblema de minimização."
   ]
  },
  {
   "cell_type": "markdown",
   "metadata": {},
   "source": [
    "A principal diferença entre o algoritmo original do caixeiro viajante e o do algoritmo do caixeiro viajante astronauta(que agora construimos), trata-se da mudança nas funções que geram as cidades, que medem a distância e consequentemente nas funções objetivo."
   ]
  },
  {
   "cell_type": "markdown",
   "metadata": {},
   "source": [
    "Dessa forma, tais alterações foram feitas em sua maioria no arquivo `funcoes.py` no qual podemos ver a criações de funções como a `cria_estacoes_espaciais`,`distancia_entre_dois_pontos_em_tres_coordenadas`,`funcao_objetivo_pop_cv_astronauta`e `funcao_objetivo_cv_astronauta`; que representaram, por sua vez, novidades na seção de importação desse notebook."
   ]
  },
  {
   "cell_type": "markdown",
   "metadata": {},
   "source": [
    "Por questão de simplificação continuaremos chamandos as \"estações espaciais\" a serem visitadas pelo caixeiro de \"cidades\" o que justifica, por exemplo, a importação da função `cria_estacoes_espaciais` como `cria_cidades`, o que nos permitirá utilizar os códigos feitos anteriormente fazendo apenas pequenas alterações"
   ]
  },
  {
   "cell_type": "code",
   "execution_count": 2,
   "metadata": {},
   "outputs": [
    {
     "data": {
      "text/plain": [
       "{'Estação 0': (0.09652190735451827, 0.7781701459865531, 0.49025939453774636),\n",
       " 'Estação 1': (0.07560417405281661, 0.7304677540615218, 0.16795897119619307),\n",
       " 'Estação 2': (0.5822215730574914, 0.005839578033372428, 0.2279921249121134),\n",
       " 'Estação 3': (0.016571694022325834, 0.6692393052806365, 0.40336242658512567),\n",
       " 'Estação 4': (0.07412686526996815, 0.7474799883896465, 0.007193969263261546),\n",
       " 'Estação 5': (0.4990360067676244, 0.5370993414208183, 0.9171161959825356),\n",
       " 'Estação 6': (0.024517433927354726, 0.6320297055832288, 0.197889586472759),\n",
       " 'Estação 7': (0.7240434476178683, 0.8831323993213072, 0.10611464462576747),\n",
       " 'Estação 8': (0.30991842015960913, 0.23386491685164879, 0.3470115258357924),\n",
       " 'Estação 9': (0.48506879999909713, 0.8600396246716057, 0.1427915523668598)}"
      ]
     },
     "execution_count": 2,
     "metadata": {},
     "output_type": "execute_result"
    }
   ],
   "source": [
    "### CONSTANTES\n",
    "\n",
    "# relacionadas à busca\n",
    "TAMANHO_POP = 50\n",
    "NUM_GERACOES = 1000\n",
    "CHANCE_CRUZAMENTO = 0.5\n",
    "CHANCE_MUTACAO = 0.05\n",
    "NUM_COMBATENTES_NO_TORNEIO = 3\n",
    "\n",
    "# relacionadas ao problema a ser resolvido\n",
    "NUMERO_DE_CIDADES = 10\n",
    "CIDADES = cria_cidades(NUMERO_DE_CIDADES)\n",
    "CIDADES"
   ]
  },
  {
   "cell_type": "markdown",
   "metadata": {},
   "source": [
    "Com o código acima podemos ver que foi realizada com sucesso a troca da representação das cidades de 2 coordenadas para 3 coordenadas."
   ]
  },
  {
   "cell_type": "code",
   "execution_count": 3,
   "metadata": {},
   "outputs": [],
   "source": [
    "# Funções locais\n",
    "\n",
    "def funcao_objetivo_pop(populacao):\n",
    "    return funcao_objetivo_pop_cv_astronauta(populacao, CIDADES)\n",
    "\n",
    "def funcao_objetivo_individuo(individuo):\n",
    "    return funcao_objetivo_cv_astronauta(individuo, CIDADES)"
   ]
  },
  {
   "cell_type": "markdown",
   "metadata": {},
   "source": [
    "Definidas também as nossas funções locais, podemos, então, seguir para a busca por algoritmos genéticos&#129321;."
   ]
  },
  {
   "cell_type": "markdown",
   "metadata": {},
   "source": [
    "**Busca por algoritmos genéticos:**"
   ]
  },
  {
   "cell_type": "code",
   "execution_count": 4,
   "metadata": {},
   "outputs": [],
   "source": [
    "populacao = cria_populacao_inicial(TAMANHO_POP, CIDADES)\n",
    "\n",
    "melhor_fitness_ja_visto = float(\"inf\") #infinito em python\n",
    "\n",
    "for n in range(NUM_GERACOES):\n",
    "    \n",
    "    # Seleção\n",
    "    fitness = funcao_objetivo_pop(populacao)\n",
    "    populacao = funcao_selecao(populacao, fitness)\n",
    "    \n",
    "    # Cruzamento\n",
    "    pais = populacao[0::2]\n",
    "    maes = populacao[1::2]\n",
    "    \n",
    "    contador = 0\n",
    "    \n",
    "    for pai, mae in zip(pais, maes):\n",
    "        if random.random() <= CHANCE_CRUZAMENTO:\n",
    "            filho1, filho2 = funcao_cruzamento(pai, mae)\n",
    "            populacao[contador] = filho1\n",
    "            populacao[contador + 1] = filho2\n",
    "        \n",
    "        contador = contador + 2\n",
    "        \n",
    "    # Mutação\n",
    "    for n in range(len(populacao)):\n",
    "        if random.random() <= CHANCE_MUTACAO:\n",
    "            individuo = populacao[n]\n",
    "            populacao[n] = funcao_mutacao(individuo)\n",
    "            \n",
    "    # melhor individuo já visto até agora\n",
    "    fitness = funcao_objetivo_pop(populacao)\n",
    "    menor_fitness = min(fitness)\n",
    "    if menor_fitness < melhor_fitness_ja_visto:\n",
    "        posicao  = fitness.index(menor_fitness)\n",
    "        melhor_individuo_ja_visto = populacao[posicao]\n",
    "        melhor_fitness_ja_visto = menor_fitness"
   ]
  },
  {
   "cell_type": "markdown",
   "metadata": {},
   "source": [
    "Como o problema do caixeiro viajante pode ser considerado um problema NP difícil, só conseguimos, de fato, testar se uma determinada rota é a melhor possível se todas as rotas forem testadas.\n",
    "\n",
    "Dessa forma, achamos interessante propor também uma solução por busca exaustiva (dado que nesse caso ainda é possível fazê-la sem exigir tanto dos nossos computadores) e comparar o resultado obtido dessa forma com o obtido por meio de algoritmos genéticos. "
   ]
  },
  {
   "cell_type": "markdown",
   "metadata": {},
   "source": [
    "**Busca testando todas as permutações:**"
   ]
  },
  {
   "cell_type": "code",
   "execution_count": 5,
   "metadata": {},
   "outputs": [],
   "source": [
    "melhor_fitness_ever = float(\"inf\")\n",
    "\n",
    "# testando todas as permutações possíveis \n",
    "for caminho in permutations(list(CIDADES.keys())):\n",
    "    distancia = funcao_objetivo_individuo(caminho)\n",
    "    if distancia < melhor_fitness_ever:\n",
    "        melhor_fitness_ever = distancia\n",
    "        melhor_resposta_ever = caminho"
   ]
  },
  {
   "cell_type": "markdown",
   "metadata": {},
   "source": [
    "**Comparando resultados:**"
   ]
  },
  {
   "cell_type": "code",
   "execution_count": 6,
   "metadata": {},
   "outputs": [
    {
     "name": "stdout",
     "output_type": "stream",
     "text": [
      "\n",
      "Melhor individuo obtido por algoritmos genéticos\n",
      "['Estação 6', 'Estação 3', 'Estação 0', 'Estação 5', 'Estação 8', 'Estação 2', 'Estação 7', 'Estação 9', 'Estação 4', 'Estação 1'] com distancia: 3.9149076627735884\n",
      "\n",
      "Melhor individuo obtido por busca exaustiva:\n",
      "('Estação 0', 'Estação 3', 'Estação 6', 'Estação 1', 'Estação 4', 'Estação 9', 'Estação 7', 'Estação 2', 'Estação 8', 'Estação 5') com distância: 3.9149076627735884\n"
     ]
    }
   ],
   "source": [
    "# Checando os resultados\n",
    "\n",
    "print()\n",
    "print(\"Melhor individuo obtido por algoritmos genéticos\")\n",
    "print(melhor_individuo_ja_visto, \"com distancia:\", melhor_fitness_ja_visto)\n",
    "\n",
    "print()\n",
    "print(\"Melhor individuo obtido por busca exaustiva:\")\n",
    "print(melhor_resposta_ever, \"com distância:\", melhor_fitness_ever)"
   ]
  },
  {
   "cell_type": "markdown",
   "metadata": {},
   "source": [
    "## Conclusão\n",
    "\n"
   ]
  },
  {
   "cell_type": "markdown",
   "metadata": {},
   "source": [
    "Dado que o nosso principal objetivo nesse desafio era encontrar, por meio de algoritmos genéticos, o caminho com menor distância necessária para o caixeiro viajante astronauta percorrer todas as estações espaciais(descritas em coordenadas x, y e z) podemos considerá-lo atingido com sucesso! Isso se dá porque, quando comparado com o resultado obtido de busca exaustiva, podemos ver que o algoritmo genético obteve resultados tão bons quanto!\n",
    "\n",
    "Durante esse notebook pudemos entender como modificar e acrescentar pequenos detalhes no nosso código de modo que ele passasse a servir para outro problema diferente alterando ou acrescentando uma pequena quantidade de elementos!\n",
    "\n",
    "Com isso o nosso conhecimento sobre algoritmos genéticos, suas aplicações, bem como a capacidade de adaptarmos e manipularmos códigos ficam cada vez mais robustos e estou animada para exercer essas habilidades que estão sendo construídos no trabalho final da disciplina!&#128516;"
   ]
  },
  {
   "cell_type": "markdown",
   "metadata": {},
   "source": [
    "## Playground\n",
    "\n"
   ]
  },
  {
   "cell_type": "markdown",
   "metadata": {},
   "source": [
    "Todo código de teste que não faz parte do seu experimento deve vir aqui. Este código não será considerado na avaliação.\n",
    "\n"
   ]
  },
  {
   "cell_type": "code",
   "execution_count": null,
   "metadata": {},
   "outputs": [],
   "source": []
  }
 ],
 "metadata": {
  "kernelspec": {
   "display_name": "ilumpy",
   "language": "python",
   "name": "ilumpy"
  },
  "language_info": {
   "codemirror_mode": {
    "name": "ipython",
    "version": 3
   },
   "file_extension": ".py",
   "mimetype": "text/x-python",
   "name": "python",
   "nbconvert_exporter": "python",
   "pygments_lexer": "ipython3",
   "version": "3.9.7"
  },
  "org": null
 },
 "nbformat": 4,
 "nbformat_minor": 4
}
