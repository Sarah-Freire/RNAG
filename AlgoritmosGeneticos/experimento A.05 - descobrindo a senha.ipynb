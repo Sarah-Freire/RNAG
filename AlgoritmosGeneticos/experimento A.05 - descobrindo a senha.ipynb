{
 "cells": [
  {
   "cell_type": "markdown",
   "metadata": {},
   "source": [
    "Descobrindo a senha\n",
    "===================\n",
    "\n"
   ]
  },
  {
   "cell_type": "markdown",
   "metadata": {},
   "source": [
    "## Objetivo\n",
    "\n"
   ]
  },
  {
   "cell_type": "markdown",
   "metadata": {},
   "source": [
    "Usar um algoritmo genético para descobrir uma senha.\n",
    "\n"
   ]
  },
  {
   "cell_type": "markdown",
   "metadata": {},
   "source": [
    "## Descrição do problema\n",
    "\n"
   ]
  },
  {
   "cell_type": "markdown",
   "metadata": {},
   "source": [
    "Neste problema, a função objetivo deve saber a senha correta e quantificar de alguma maneira o quão perto ou longe os palpites estão da solução (veja que isso é algo que não temos no mundo real. Nenhum site irá te dizer se você está acertando ou errando seu palpite). O critério de parada deste problema é quando a senha for descoberta.\n",
    "\n"
   ]
  },
  {
   "cell_type": "markdown",
   "metadata": {},
   "source": [
    "## Importações\n",
    "\n"
   ]
  },
  {
   "cell_type": "code",
   "execution_count": 1,
   "metadata": {},
   "outputs": [],
   "source": [
    "from funcoes import populacao_inicial_senha\n",
    "from funcoes import funcao_objetivo_pop_senha\n",
    "from funcoes import selecao_torneio_min\n",
    "from funcoes import cruzamento_ponto_simples as funcao_cruzamento\n",
    "from funcoes import mutacao_senha\n",
    "import random"
   ]
  },
  {
   "cell_type": "markdown",
   "metadata": {},
   "source": [
    "## Códigos e discussão\n",
    "\n"
   ]
  },
  {
   "cell_type": "markdown",
   "metadata": {},
   "source": [
    "Para esse novo problema, na qual sabendo as características de um determinado indivíduo queremos encontrá-la, grande parte das funções importadas são basicamente as mesmas que dos experimentos anteriores, mudando apenas o fato de que foram adaptadas para esse problema.\n",
    "\n",
    "Nesse sentido, uma função que cria a população inicial que antes no problema das caixas binárias possuía indivíduos que tinha genes que iam de 0 a 1 ou de 0 a 100, no problema das caixas não-binárias, agora possuem gene que podem ser as letras do alfabeto armazenadas na constante `LETRAS_POSSIVEIS`."
   ]
  },
  {
   "cell_type": "markdown",
   "metadata": {},
   "source": [
    "Vale ressaltar, também, que diferentemente do experimento anterior, onde tratávamos de um problema de maximização, o experimento A.05 trata-se de um experimento de minimização, pois queremos minimizar a distância entre as senhas."
   ]
  },
  {
   "cell_type": "code",
   "execution_count": 2,
   "metadata": {},
   "outputs": [],
   "source": [
    "# constantes relacionadas à  busca\n",
    "\n",
    "# pode mudar para melhorar a eficácia do algoritmo construído\n",
    "TAMANHO_POP = 5\n",
    "CHANCE_CRUZAMENTO = 0.5\n",
    "CHANCE_MUTACAO = 0.05\n",
    "NUM_COMBATENTES_NO_TORNEIO = 3\n",
    "\n",
    "\n",
    "# constantes relacionadas ao problema\n",
    "\n",
    "# se forem alteradas, alteramos consequentemente o problema\n",
    "# que está sendo resolvido\n",
    "SENHA = \"supercientista\"\n",
    "LETRAS_POSSIVEIS = \"abcdefghijklmnopqrstuvwxyz\"\n",
    "NUM_GENES = len(SENHA)\n"
   ]
  },
  {
   "cell_type": "markdown",
   "metadata": {},
   "source": [
    "É importante ressaltar também que para fazer essa medição da distância entre as palavras foi utilizada nas funções criadas no arquivo `funcoes.py` a função `ord` muito utilizada para converter letras em números.\n",
    "\n",
    "Assim, o conceito utilizado para calcular a distância total a que estão 2 palavras devemos somar a diferença do valor de cada uma das letras da palavra que temos para a palavra que queremos.\n",
    "\n",
    "Já para selecionar os indivíduos, a função `selecao_roleta_max` foi substituída pela função `selecao_torneio_min`(tendo em vista que agora trata-se de um problema de minimização).\n",
    "\n",
    "A seleção por torneio funciona de modo que são sorteados $n$ indivíduos da população e selecionado o que tiver o melhor valor de fitness."
   ]
  },
  {
   "cell_type": "code",
   "execution_count": 3,
   "metadata": {},
   "outputs": [],
   "source": [
    "# funções locais\n",
    "#cração de funções locais que são modificação das funções gerais já definidas\n",
    "\n",
    "def cria_populacao_inicial(tamanho, tamanho_senha):\n",
    "    return populacao_inicial_senha(tamanho, tamanho_senha, LETRAS_POSSIVEIS)\n",
    "\n",
    "def funcao_objetivo_pop(populacao):\n",
    "    return funcao_objetivo_pop_senha(populacao, SENHA)\n",
    "\n",
    "def funcao_selecao(populacao, fitness):\n",
    "    return selecao_torneio_min(populacao, fitness, NUM_COMBATENTES_NO_TORNEIO)\n",
    "\n",
    "def funcao_mutacao(individuo):\n",
    "    return mutacao_senha(individuo, LETRAS_POSSIVEIS)"
   ]
  },
  {
   "cell_type": "markdown",
   "metadata": {},
   "source": [
    "O restante do código assemelha-se bastante com toda a implementação que já fizemos anteriormente nos outros notebooks, apresentando como novidade o `melhor_individuo_ja_visto`, chamado em outros contextos de \"hall da fama\", nada mais é do que uma variável que armazena os $n$ melhores indivíduos vistos até o momento, como nesse caso $n$ = 1, tratamos do melhor indivíduo encontrado até o momento."
   ]
  },
  {
   "cell_type": "code",
   "execution_count": 4,
   "metadata": {},
   "outputs": [
    {
     "name": "stdout",
     "output_type": "stream",
     "text": [
      "Progresso da melhor senha já vista:\n",
      "tvflcfhpharnpp -fitness 107\n",
      "tvflcfhphcrnpp -fitness 105\n",
      "tvflufhphcrnpp -fitness 93\n",
      "tvflufhphcrnpl -fitness 89\n",
      "tvflufhdhcrnpl -fitness 79\n",
      "tvflufhdhvrnpl -fitness 64\n",
      "tvflufhdhvrnpa -fitness 53\n",
      "tvflufhdpvrnpa -fitness 49\n",
      "tvflufhdpvrppa -fitness 47\n",
      "tvfluahdpvrppa -fitness 46\n",
      "svfluahdpvrppa -fitness 45\n",
      "svgluahdpvrppa -fitness 44\n",
      "svgluahdpvoppa -fitness 41\n",
      "svoluahdpvoppa -fitness 33\n",
      "swoduahdpvoppa -fitness 28\n",
      "swoduahdpvopra -fitness 26\n",
      "swoduahdpvhpra -fitness 21\n",
      "swoduahdmvhpra -fitness 20\n",
      "swojsahdmvhssa -fitness 18\n",
      "swocsdhdkvhsta -fitness 15\n",
      "suqdsdhdsvhsta -fitness 14\n",
      "supdsdhdsvhsta -fitness 13\n",
      "supdsdhdsuhsta -fitness 12\n",
      "supdsdhdouhsta -fitness 8\n",
      "supesbhdouhsta -fitness 7\n",
      "supesbhdothsta -fitness 6\n",
      "supesbhdnthsta -fitness 5\n",
      "supfrcientirtc -fitness 4\n",
      "supercientirtc -fitness 3\n",
      "surercientista -fitness 2\n",
      "supercientistb -fitness 1\n",
      "supercientista -fitness 0\n",
      "\n",
      "Melhor palpite da senha encontrado:\n",
      "supercientista\n"
     ]
    }
   ],
   "source": [
    "populacao = cria_populacao_inicial(TAMANHO_POP, NUM_GENES)\n",
    "\n",
    "melhor_fitness_ja_visto = float(\"inf\") # infinito em python\n",
    "\n",
    "print(\"Progresso da melhor senha já vista:\")\n",
    "\n",
    "while melhor_fitness_ja_visto != 0:\n",
    "    \n",
    "    # Seleção\n",
    "    fitness = funcao_objetivo_pop(populacao)\n",
    "    populacao = funcao_selecao(populacao, fitness)\n",
    "    \n",
    "    # Cruzamento\n",
    "    pais = populacao[0::2]\n",
    "    maes = populacao[1::2]\n",
    "    \n",
    "    contador = 0\n",
    "    \n",
    "    for pai, mae in zip(pais, maes):\n",
    "        if random.random() <= CHANCE_CRUZAMENTO:\n",
    "            filho1, filho2 = funcao_cruzamento(pai, mae)\n",
    "            populacao[contador] = filho1\n",
    "            populacao[contador+1] = filho2\n",
    "            \n",
    "        contador = contador + 2\n",
    "        \n",
    "    # Mutação\n",
    "    for n in range(len(populacao)):\n",
    "        if random.random() <= CHANCE_MUTACAO:\n",
    "            individuo = populacao[n]\n",
    "            populacao[n] = funcao_mutacao(individuo)\n",
    "            \n",
    "    # Melhor indivíduo já visto até o momento\n",
    "    fitness = funcao_objetivo_pop(populacao)\n",
    "    menor_fitness = min(fitness)\n",
    "    if menor_fitness < melhor_fitness_ja_visto:\n",
    "        posicao = fitness.index(menor_fitness)\n",
    "        melhor_individuo_ja_visto = populacao[posicao]\n",
    "        melhor_fitness_ja_visto = menor_fitness\n",
    "        print(\"\".join(melhor_individuo_ja_visto), \"-fitness\", melhor_fitness_ja_visto)\n",
    "        \n",
    "print()\n",
    "print(\"Melhor palpite da senha encontrado:\")\n",
    "print(\"\".join(melhor_individuo_ja_visto))"
   ]
  },
  {
   "cell_type": "markdown",
   "metadata": {},
   "source": [
    "## Conclusão\n",
    "\n"
   ]
  },
  {
   "cell_type": "markdown",
   "metadata": {},
   "source": [
    "Dessa forma, a implementação de um algoritmo genético para encontrar uma senha conhecida e quantificar quão perto ou quão longe os palpites estão da solução foi um sucesso, pois conseguimos sim medir esse fitness e ir diminuindo essa distância até encontrarmos a melhor resposta.\n",
    "\n",
    "Nesse experimento pudemos aprender também um pouco sobre como funcionam problemas de minimização, essa nova peça na aprendizagem com certeza nos abrirá a possibilidade de resolver todo um novo conjunto de problemas utilizando algoritmos genéticos, mal posso esperar pelos próximos experimentos!&#x1F604;"
   ]
  },
  {
   "cell_type": "markdown",
   "metadata": {},
   "source": [
    "## Playground\n",
    "\n"
   ]
  },
  {
   "cell_type": "code",
   "execution_count": null,
   "metadata": {},
   "outputs": [],
   "source": []
  }
 ],
 "metadata": {
  "kernelspec": {
   "display_name": "ilumpy",
   "language": "python",
   "name": "ilumpy"
  },
  "language_info": {
   "codemirror_mode": {
    "name": "ipython",
    "version": 3
   },
   "file_extension": ".py",
   "mimetype": "text/x-python",
   "name": "python",
   "nbconvert_exporter": "python",
   "pygments_lexer": "ipython3",
   "version": "3.9.7"
  },
  "org": null
 },
 "nbformat": 4,
 "nbformat_minor": 4
}
