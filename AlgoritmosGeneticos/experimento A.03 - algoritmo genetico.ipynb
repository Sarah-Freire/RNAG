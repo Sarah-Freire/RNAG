{
 "cells": [
  {
   "cell_type": "markdown",
   "metadata": {
    "tags": []
   },
   "source": [
    "Algoritmo genético\n",
    "==================\n",
    "\n"
   ]
  },
  {
   "cell_type": "markdown",
   "metadata": {},
   "source": [
    "## Introdução\n",
    "\n"
   ]
  },
  {
   "cell_type": "markdown",
   "metadata": {},
   "source": [
    "`Algoritmos genéticos` são algoritmos inspirados na teoria da evolução de Darwin e são ferramentas poderosas para resolver problemas de otimização. De maneira simples, a estratégia consiste em gerar uma população inicial aleatória e através de seleção, cruzamento e mutação sucessivas, gerar populações seguintes. Se feito de maneira correta, as populações seguintes tendem a ser melhores candidatos para a solução do problema do que as populações anteriores.\n",
    "\n",
    "Um algoritmo genético pode parecer um tanto complexo, porém é possível dividi-lo em partes relativamente simples:\n",
    "\n",
    "1.  Criação da população inicial (aleatória)\n",
    "\n",
    "2.  Cálculo da função objetivo para todos os membros da população inicial e atualização do hall da fama\n",
    "\n",
    "3.  Seleção dos indivíduos (quais seguem pra próxima geração)\n",
    "\n",
    "4.  Cruzamento dos indivíduos selecionados (troca de material genético)\n",
    "\n",
    "5.  Mutação dos indivíduos da população recém-criada (possibilidade de trazer informação nova ao sistema)\n",
    "\n",
    "6.  Cálculo da função objetivo para todos os membros da população recém-criada e atualização do hall da fama\n",
    "\n",
    "7.  Checar os critérios de parada. Caso os critérios não tenham sido atendidos, retornar ao passo 3\n",
    "\n",
    "8.  Retornar para o usuário o hall da fama\n",
    "\n"
   ]
  },
  {
   "cell_type": "markdown",
   "metadata": {},
   "source": [
    "## Glossário\n",
    "\n"
   ]
  },
  {
   "cell_type": "markdown",
   "metadata": {},
   "source": [
    "-   `Indivíduo`: um candidato para a solução do problema\n",
    "\n",
    "-   `População`: um conjunto de candidatos para a solução do problema\n",
    "\n",
    "-   `Gene`: um parâmetro que pertence a um indivíduo\n",
    "\n",
    "-   `Cromossomo` ou `genótipo`: um conjunto de genes\n",
    "\n",
    "-   `Geração`: cada população em uma busca genética faz parte de uma geração. A primeira geração é geralmente formada por indivíduos aleatórios (sorteados dentro do espaço de busca). As gerações seguintes são formadas por seleção, cruzamento e mutação da geração anterior. Um dos critérios de parada possíveis para um algoritmo genético é o número máximo de gerações\n",
    "\n",
    "-   `Função de aptidão` ou `função objetivo` ou `função fitness`: uma função que recebe um indivíduo e retorna o seu valor de aptidão. Em um problema de otimização, nós buscamos encontrar soluções que minimizam ou maximizam o valor de aptidão\n",
    "\n",
    "-   `Seleção`: processo onde utilizamos o valor de aptidão dos indivíduos para selecionar quais irão passar seus genes para a geração seguinte\n",
    "\n",
    "-   `Cruzamento`: processo onde o material genético de indivíduos selecionados é misturado\n",
    "\n",
    "-   `Mutação`: processo onde os genes dos indivíduos selecionados têm uma chance de alterar seu valor. A mutação é o único processo capaz de introduzir informação nova ao pool genético após o sorteio aleatório da primeira geração\n",
    "\n",
    "-   `Hall da fama`: conjunto dos $n$ indivíduos que obtiveram os melhores valores de aptidão durante o processo de busca\n",
    "\n"
   ]
  },
  {
   "cell_type": "markdown",
   "metadata": {},
   "source": [
    "## Reflexões\n",
    "\n"
   ]
  },
  {
   "cell_type": "markdown",
   "metadata": {},
   "source": [
    "Você diria que o algoritmo genético é determinístico ou probabilístico?\n",
    "\n",
    "- Probabilístico, assim como no processo de evolução na biologia.\n",
    "\n",
    "Será que um algoritmo genético é capaz de encontrar mínimos (ou máximos) da função objetivo?\n",
    "\n",
    "- Não exatamente, dado que é probabilístico, mas talvez chegue perto desse valor.\n",
    "\n",
    "O que será que acontece quando não realizamos a etapa de mutação do algoritmo genético?\n",
    "\n",
    "- Não haverá grandes novidades no código genético e teremos poucas chances de realmente encontrar a solução do nosso código.\n",
    "\n",
    "O que será que acontece quando usamos uma chance de mutação muito alta?\n",
    "\n",
    "- Nosso problema terá poucas chances de ser realmente resolvido, porque chegaremos na melhor solução e rapidamente ela sera perdida devido às mutações, chegando a ser um sorteio quase que aleatório e não de fato uma seleção."
   ]
  },
  {
   "cell_type": "markdown",
   "metadata": {},
   "source": [
    "## Objetivo\n",
    "\n"
   ]
  },
  {
   "cell_type": "markdown",
   "metadata": {},
   "source": [
    "Encontrar uma solução para o problema das caixas binárias usando o algoritmo genético. Considere 4 caixas.\n",
    "\n"
   ]
  },
  {
   "cell_type": "markdown",
   "metadata": {},
   "source": [
    "## Descrição do problema\n",
    "\n"
   ]
  },
  {
   "cell_type": "markdown",
   "metadata": {},
   "source": [
    "O problema das caixas binárias é simples: nós temos um certo número de caixas e cada uma pode conter um valor do conjunto $\\{0, 1\\}$. O objetivo é encontrar uma combinação de caixas onde a soma dos valores contidos dentro delas é máximo.\n",
    "\n"
   ]
  },
  {
   "cell_type": "markdown",
   "metadata": {},
   "source": [
    "## Importações\n",
    "\n"
   ]
  },
  {
   "cell_type": "code",
   "execution_count": 1,
   "metadata": {},
   "outputs": [],
   "source": [
    "from funcoes import populacao_cb as cria_populacao_inicial\n",
    "from funcoes import funcao_objetivo_pop_cb as funcao_objetivo_pop\n",
    "from funcoes import selecao_roleta_max as funcao_selecao\n",
    "from funcoes import cruzamento_ponto_simples as funcao_cruzamento\n",
    "from funcoes import mutacao_cb as funcao_mutacao\n",
    "import random"
   ]
  },
  {
   "cell_type": "markdown",
   "metadata": {},
   "source": [
    "## Códigos e discussão\n",
    "\n"
   ]
  },
  {
   "cell_type": "markdown",
   "metadata": {},
   "source": [
    "Para esse experimento temos também o objetivo de resolver o problema das caixas binárias, assim como nos 2 experimentos anteriores, no entanto, dessa vez, entraremos de verdade na matéria de Algoritmos Genéticos, utilizando esses conceitos para resolver o problema."
   ]
  },
  {
   "cell_type": "markdown",
   "metadata": {},
   "source": [
    "Começamos por importar funções codadas e armazenadas no arquivo `funcoes.py`, o que permitirá o uso dessas mesmas funções em experimentos futuros."
   ]
  },
  {
   "cell_type": "markdown",
   "metadata": {},
   "source": [
    "Para darmos início ao experimento faz-se muito importante determinarmos os parâmetros, constantes, que serão utilizados nas funções."
   ]
  },
  {
   "cell_type": "markdown",
   "metadata": {},
   "source": [
    "Vale ressaltar que as `constantes relacionadas à busca` são constantes que podem ser alteradas por nós para resolvermos o problema de uma forma melhor, mais eficiente e diferente. Já as `constantes relacionadas ao problema a ser resolvido` não devem ser alteradas, pois modificá-las implica dizer que alteramos o problema a ser resolvido, dado que esses exatos números são necessários para que sejam cumpridas as exigências do enunciado."
   ]
  },
  {
   "cell_type": "code",
   "execution_count": 2,
   "metadata": {},
   "outputs": [],
   "source": [
    "# constantes\n",
    "\n",
    "# relacionadas à busca\n",
    "TAMANHO_POP = 6\n",
    "NUM_GENES = 4\n",
    "NUM_GERACOES = 5\n",
    "CHANCE_CRUZAMENTO = 0.5\n",
    "CHANCE_MUTACAO = 0.05\n",
    "\n",
    "#relacionadas ao problema a ser resolvido\n",
    "NUM_GENES = 4"
   ]
  },
  {
   "cell_type": "markdown",
   "metadata": {},
   "source": [
    "Seguindo as instruções dadas anteriormente, o primeiro passo na implementação de um algoritmo genético é criar a população inicial(aleatória), o que é cumprida pela função `cria_populacao_inicial`, depois é feito o cálcul da função objetivo para todos os indivíduos e criada uma nova população de acordo com o desempenho, fitness, que eles tiveram na função objetivo."
   ]
  },
  {
   "cell_type": "markdown",
   "metadata": {},
   "source": [
    "Logo após isso são selecionados os indivíduos que serão os pais e as mães da próxima geração, iniciado um contador que servirá para iterar a lista e adicionar os filhos à lista da população. Outra parte chave para o entendimento desse código é que tanto o cruzamento quanto a mutação só ocorrem a partir de chances pré-determinadas anteriormente pelos parâmetros `CHANCE_CRUZAMENTO` e `CHANCE_MUTACAO`"
   ]
  },
  {
   "cell_type": "markdown",
   "metadata": {},
   "source": [
    "O modo como são calculadas, de fato, essas chances no código envolvem o uso do método `random()`; o que esse método faz no caso é gerar um número aleatório de 0 a 1, então podemos falar que se esse número gerado for menor ou igual à chance que determinamos antes(que também vai de 0 a 1), a mutação ou o cruzamento ocorrem. "
   ]
  },
  {
   "cell_type": "code",
   "execution_count": 3,
   "metadata": {},
   "outputs": [
    {
     "name": "stdout",
     "output_type": "stream",
     "text": [
      "População inicial:\n",
      "[[0, 1, 1, 1], [1, 0, 1, 0], [1, 0, 1, 0], [1, 1, 0, 1], [1, 1, 1, 0], [0, 0, 1, 0]]\n",
      "\n",
      "População final:\n",
      "[[0, 1, 1, 0], [1, 1, 0, 1], [0, 1, 1, 0], [0, 1, 1, 1], [0, 1, 1, 1], [1, 1, 0, 1]]\n"
     ]
    }
   ],
   "source": [
    "populacao = cria_populacao_inicial (TAMANHO_POP, NUM_GENES)\n",
    "\n",
    "print(\"População inicial:\")\n",
    "print(populacao)\n",
    "\n",
    "for n in range(NUM_GERACOES): # enquanto o número máximo de gerações não tiver sido atingido \n",
    "    \n",
    "    # seleção\n",
    "    fitness = funcao_objetivo_pop(populacao) # calcula o fitness de cada indivíduo conforme a função anteriormente definida\n",
    "    populacao = funcao_selecao(populacao, fitness) # cria nova população selecionada pela função roleta, com pesos baseados no desempenho que a população anterior obteve no fitnes\n",
    "    \n",
    "    # cruzamento\n",
    "    pais = populacao[0::2] # partindo do primeiro elemento seleciona elementos de 2 em 2 para serem os pais\n",
    "    maes = populacao[1::2] # partindo do segundo elemento seleciona elementos de 2 em 2 para serem as mães\n",
    "    \n",
    "    contador = 0\n",
    "    \n",
    "    for pai, mae in zip(pais, maes):\n",
    "        if random.random() <= CHANCE_CRUZAMENTO: \n",
    "            # vai acontecer cruzamento\n",
    "            filho1, filho2 = funcao_cruzamento(pai, mae)\n",
    "            populacao[contador] = filho1\n",
    "            populacao[contador + 1] = filho2\n",
    "            \n",
    "        contador = contador + 2\n",
    "        \n",
    "    # mutação\n",
    "    for n in range(len(populacao)):\n",
    "        if random.random() <= CHANCE_MUTACAO:\n",
    "            individuo = populacao[n]\n",
    "            #print()\n",
    "            #print(individuo)\n",
    "            populacao[n] = funcao_mutacao(individuo)\n",
    "            #print(populacao[n])\n",
    "            #print()\n",
    "            \n",
    "print()\n",
    "print(\"População final:\")\n",
    "print(populacao)"
   ]
  },
  {
   "cell_type": "markdown",
   "metadata": {},
   "source": [
    "## Conclusão\n",
    "\n"
   ]
  },
  {
   "cell_type": "markdown",
   "metadata": {},
   "source": [
    "Dessa forma, durante esse experimento pudemos resolver o problema das caixas binárias por meios dos Algoritmos Genéticos e nos familiarizarmos com sua nomenclatura e particularidades, utilizando esses conceitos para resolver o problema.\n",
    "\n",
    "O problema das caixas binárias foi, assim, resolvido de modo satisfatório por meio dessa implementação, como pudemos ver acima.\n",
    "\n",
    "No entanto, ao construir e rodar o código foi possível perceber, como suspeitava antes, assim como registrado na parte de reflexões; que o método do algoritmo genético é, de fato, probabilístico e também que não necessariamente encontrará o máximo e o mínimo das funções, mas pode chegar a valores bem próximos deles.\n",
    "\n",
    "\n",
    "Além disso, foi interessante perceber como nesse modelo as mudanças que são possíveis de serem realizadas nos parâmetros aumentam ainda mais as possibilidades de ajustes, respostas, bem como aplicabilidades de um mesmo algoritmo. Isso certamente será útil mais à frente &#x1F604;.\n",
    "\n"
   ]
  },
  {
   "cell_type": "markdown",
   "metadata": {},
   "source": [
    "## Playground\n",
    "\n"
   ]
  },
  {
   "cell_type": "code",
   "execution_count": null,
   "metadata": {},
   "outputs": [],
   "source": []
  }
 ],
 "metadata": {
  "kernelspec": {
   "display_name": "ilumpy",
   "language": "python",
   "name": "ilumpy"
  },
  "language_info": {
   "codemirror_mode": {
    "name": "ipython",
    "version": 3
   },
   "file_extension": ".py",
   "mimetype": "text/x-python",
   "name": "python",
   "nbconvert_exporter": "python",
   "pygments_lexer": "ipython3",
   "version": "3.9.7"
  },
  "org": null
 },
 "nbformat": 4,
 "nbformat_minor": 4
}
